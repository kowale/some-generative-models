{
 "cells": [
  {
   "cell_type": "markdown",
   "metadata": {},
   "source": [
    "### Vanilla GAN\n",
    "\n",
    "* generator\n",
    "\n",
    "10 samples from U(0, 1) -> 128 -> relu -> 256 -> relu -> 784 -> sigm -> 28x28\n",
    "\n",
    "* discriminator\n",
    "\n",
    "28x28 from data -> flatten to 784 -> 784 -> relu -> 128 -> relu -> 128 -> sigm"
   ]
  },
  {
   "cell_type": "code",
   "execution_count": null,
   "metadata": {},
   "outputs": [],
   "source": [
    "import random\n",
    "\n",
    "import numpy as np\n",
    "import tensorflow as tf\n",
    "\n",
    "import matplotlib.pyplot as plt\n",
    "%matplotlib inline"
   ]
  },
  {
   "cell_type": "code",
   "execution_count": null,
   "metadata": {},
   "outputs": [],
   "source": [
    "(X, y), _ = tf.keras.datasets.fashion_mnist.load_data()\n",
    "X = X / 128.0"
   ]
  },
  {
   "cell_type": "code",
   "execution_count": null,
   "metadata": {},
   "outputs": [],
   "source": [
    "(lambda cls, i: plt.imshow(\n",
    "    X[y == cls][i].reshape((28, 28)), cmap='gray'))(3, 10)"
   ]
  },
  {
   "cell_type": "code",
   "execution_count": null,
   "metadata": {},
   "outputs": [],
   "source": [
    "fmnist = X[y == 3][:1000].reshape([-1, 28, 28, 1])"
   ]
  },
  {
   "cell_type": "code",
   "execution_count": null,
   "metadata": {},
   "outputs": [],
   "source": [
    "def generator(z):\n",
    "    with tf.variable_scope(\"generator\", reuse=tf.AUTO_REUSE):\n",
    "        h1 = tf.layers.dense(z, units=128,\n",
    "                            activation=tf.nn.relu)\n",
    "        h2 = tf.layers.dense(h1, units=256,\n",
    "                            activation=tf.nn.relu)\n",
    "        prob = tf.layers.dense(h2, units=784,\n",
    "                            activation=tf.nn.sigmoid)\n",
    "    return tf.reshape(prob, shape=(-1, 28, 28, 1))"
   ]
  },
  {
   "cell_type": "code",
   "execution_count": null,
   "metadata": {},
   "outputs": [],
   "source": [
    "def discriminator(x):\n",
    "    with tf.variable_scope(\"discriminator\", reuse=tf.AUTO_REUSE):\n",
    "        flat = tf.contrib.layers.flatten(x)\n",
    "        h1 = tf.layers.dense(flat, units=784,\n",
    "                            activation=tf.nn.relu)\n",
    "        h2 = tf.layers.dense(h1, units=128,\n",
    "                            activation=tf.nn.relu)\n",
    "        prob = tf.layers.dense(h2, units=128,\n",
    "                            activation=tf.nn.sigmoid)\n",
    "    return prob"
   ]
  },
  {
   "cell_type": "code",
   "execution_count": null,
   "metadata": {},
   "outputs": [],
   "source": [
    "z = tf.placeholder(\n",
    "    tf.float32, shape=(None, 10), name='z')\n",
    "x = tf.placeholder(\n",
    "    tf.float32, shape=(None, 28, 28, 1), name='x')"
   ]
  },
  {
   "cell_type": "code",
   "execution_count": null,
   "metadata": {},
   "outputs": [],
   "source": [
    "sample = generator(z)\n",
    "dreal = discriminator(x)\n",
    "dfake = discriminator(sample)"
   ]
  },
  {
   "cell_type": "code",
   "execution_count": null,
   "metadata": {},
   "outputs": [],
   "source": [
    "dloss = -tf.reduce_mean(tf.log(dreal) + tf.log(1. - dfake))\n",
    "gloss = -tf.reduce_mean(tf.log(dfake))"
   ]
  },
  {
   "cell_type": "code",
   "execution_count": null,
   "metadata": {},
   "outputs": [],
   "source": [
    "dopt = tf.train.AdamOptimizer(0.001).minimize(dloss)\n",
    "gopt = tf.train.AdamOptimizer(0.001).minimize(gloss)"
   ]
  },
  {
   "cell_type": "code",
   "execution_count": null,
   "metadata": {},
   "outputs": [],
   "source": [
    "def sample_z(m, n):\n",
    "    return np.random.uniform(0., 1., size=(m, n))"
   ]
  },
  {
   "cell_type": "code",
   "execution_count": null,
   "metadata": {},
   "outputs": [],
   "source": [
    "sess = tf.Session()\n",
    "epochs = 10\n",
    "batch_size = 200\n",
    "sess.run(tf.global_variables_initializer())\n",
    "\n",
    "try:\n",
    "    for e in range(epochs):\n",
    "        print(f\"Epoch: {e+1}/{epochs}\")\n",
    "        for i in range(len(fmnist) // batch_size):\n",
    "            batch = fmnist[random.sample(range(len(fmnist)), batch_size)]\n",
    "            z_noise = sample_z(batch_size, 10)\n",
    "            _, dlossc = sess.run([dopt, dloss], feed_dict={x: batch, z: z_noise})\n",
    "            _, glossc = sess.run([gopt, gloss], feed_dict={z: z_noise})            \n",
    "            if i % 20 == 0:\n",
    "                print(f\"iter: {i}, dloss: {str(round(dlossc, 2))}, gloss: {str(round(glossc, 2))}\")\n",
    "except KeyboardInterrupt:\n",
    "    print(\"Stopped\")"
   ]
  },
  {
   "cell_type": "markdown",
   "metadata": {},
   "source": [
    "### Sample latent space"
   ]
  },
  {
   "cell_type": "code",
   "execution_count": null,
   "metadata": {},
   "outputs": [],
   "source": [
    "latent = np.random.normal(0., 1., 10).reshape((1, 10))\n",
    "decoded = sess.run(sample, feed_dict={z: latent})\n",
    "plt.imshow(decoded.reshape((28, 28)), cmap='gray')"
   ]
  },
  {
   "cell_type": "code",
   "execution_count": null,
   "metadata": {},
   "outputs": [],
   "source": [
    "sess.close()"
   ]
  }
 ],
 "metadata": {
  "kernelspec": {
   "display_name": "Python 3",
   "language": "python",
   "name": "python3"
  },
  "language_info": {
   "codemirror_mode": {
    "name": "ipython",
    "version": 3
   },
   "file_extension": ".py",
   "mimetype": "text/x-python",
   "name": "python",
   "nbconvert_exporter": "python",
   "pygments_lexer": "ipython3",
   "version": "3.6.6"
  }
 },
 "nbformat": 4,
 "nbformat_minor": 2
}
