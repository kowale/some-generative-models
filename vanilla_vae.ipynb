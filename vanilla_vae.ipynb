{
 "cells": [
  {
   "cell_type": "markdown",
   "metadata": {},
   "source": [
    "### Vanilla VAE"
   ]
  },
  {
   "cell_type": "code",
   "execution_count": null,
   "metadata": {},
   "outputs": [],
   "source": [
    "import random\n",
    "\n",
    "import numpy as np\n",
    "import tensorflow as tf\n",
    "\n",
    "import matplotlib.pyplot as plt\n",
    "%matplotlib inline"
   ]
  },
  {
   "cell_type": "code",
   "execution_count": null,
   "metadata": {},
   "outputs": [],
   "source": [
    "np.random.seed(0)\n",
    "tf.set_random_seed(0)"
   ]
  },
  {
   "cell_type": "code",
   "execution_count": null,
   "metadata": {
    "scrolled": true
   },
   "outputs": [],
   "source": [
    "n_z = 100\n",
    "\n",
    "(X, y), _ = tf.keras.datasets.fashion_mnist.load_data()\n",
    "X = X / 128.0\n",
    "\n",
    "fmnist = X.reshape([-1, 28, 28, 1])"
   ]
  },
  {
   "cell_type": "code",
   "execution_count": null,
   "metadata": {},
   "outputs": [],
   "source": [
    "def encoder(x, reuse=None):\n",
    "    with tf.variable_scope(\"encoder\", reuse=reuse):\n",
    "        print(x.shape, \"input x\")\n",
    "        \n",
    "        x = tf.layers.conv2d(x, filters=28, kernel_size=2, \n",
    "                             strides=2, activation=tf.nn.relu)\n",
    "        print(x.shape, \"conv 1\")\n",
    "        \n",
    "        x = tf.layers.conv2d(x, filters=14, kernel_size=2, \n",
    "                             strides=2, activation=tf.nn.relu)\n",
    "        print(x.shape, \"conv 2\")\n",
    "        \n",
    "        x = tf.contrib.layers.flatten(x)\n",
    "        print(x.shape, \"flatten\")\n",
    "        \n",
    "        mn = tf.layers.dense(x, units=n_z, \n",
    "                             activation=tf.nn.sigmoid)\n",
    "        \n",
    "        sd = tf.layers.dense(x, units=n_z,\n",
    "                             activation=tf.nn.sigmoid)\n",
    "        \n",
    "        epsilon = tf.random_normal(\n",
    "            tf.stack([tf.shape(x)[0], n_z]))\n",
    "        \n",
    "        z = mn + tf.multiply(epsilon, tf.exp(sd))\n",
    "        print(z.shape, \"output z\")\n",
    "        \n",
    "        return z, mn, sd"
   ]
  },
  {
   "cell_type": "code",
   "execution_count": null,
   "metadata": {},
   "outputs": [],
   "source": [
    "def decoder(z, reuse=None):\n",
    "    with tf.variable_scope(\"decoder\", reuse=reuse):\n",
    "        print(z.shape, \"input z\")\n",
    "        \n",
    "        x = tf.layers.dense(z, units=686,\n",
    "                            activation=tf.nn.relu)\n",
    "        print(x.shape, \"fully\")\n",
    "        \n",
    "        x = tf.reshape(x, (-1, 7, 7, 14))\n",
    "        print(x.shape, \"reshape\")\n",
    "        \n",
    "        x = tf.layers.conv2d_transpose(x, filters=28, kernel_size=2,\n",
    "                                       strides=2, activation=tf.nn.relu)\n",
    "        print(x.shape, \"deconv 2\")\n",
    "        \n",
    "        x = tf.layers.conv2d_transpose(x, filters=1, kernel_size=2,\n",
    "                                       strides=2, activation=tf.nn.relu)\n",
    "        print(x.shape, \"deconv 1\")\n",
    "        \n",
    "        return tf.reshape(x, shape=(-1, 28, 28, 1))"
   ]
  },
  {
   "cell_type": "code",
   "execution_count": null,
   "metadata": {},
   "outputs": [],
   "source": [
    "tf.reset_default_graph()\n",
    "\n",
    "input_batch = tf.placeholder(dtype=tf.float32,\n",
    "                             shape=(None, 28, 28, 1), \n",
    "                             name=\"input_batch\")\n",
    "\n",
    "z, mn, sd = encoder(input_batch)\n",
    "out = decoder(z)"
   ]
  },
  {
   "cell_type": "code",
   "execution_count": null,
   "metadata": {},
   "outputs": [],
   "source": [
    "input_flat = tf.reshape(input_batch, (-1, 28*28*1))\n",
    "out_flat = tf.reshape(out, (-1, 28*28*1))\n",
    "\n",
    "img_loss = tf.reduce_sum(tf.squared_difference(out_flat, input_flat), 1)\n",
    "kl_loss = -0.5 * tf.reduce_sum(1 + sd - tf.square(mn) - tf.exp(sd), 1)\n",
    "cost = tf.reduce_mean(img_loss + kl_loss)\n",
    "opt = tf.train.AdamOptimizer(0.0005).minimize(cost)"
   ]
  },
  {
   "cell_type": "code",
   "execution_count": null,
   "metadata": {},
   "outputs": [],
   "source": [
    "sess = tf.Session()\n",
    "epochs = 10\n",
    "batch_size = 200\n",
    "sess.run(tf.global_variables_initializer())\n",
    "\n",
    "try:\n",
    "    for e in range(epochs):\n",
    "        print(f\"Epoch: {e+1}/{epochs}\")\n",
    "        for i in range(len(fmnist) // batch_size):\n",
    "            batch = fmnist[random.sample(range(len(fmnist)), batch_size)]\n",
    "            loss, _ = sess.run([cost, opt], feed_dict={input_batch: batch})            \n",
    "            if i % 20 == 0:\n",
    "                print(f\"iter: {i}, loss: {str(round(loss, 2))}\")\n",
    "except KeyboardInterrupt:\n",
    "    print(\"Stopped\")"
   ]
  },
  {
   "cell_type": "markdown",
   "metadata": {},
   "source": [
    "### See the results"
   ]
  },
  {
   "cell_type": "code",
   "execution_count": null,
   "metadata": {},
   "outputs": [],
   "source": [
    "imgs = fmnist[:10]\n",
    "\n",
    "fig, axes = plt.subplots(\n",
    "    nrows=2, ncols=10, sharex=True, \n",
    "    sharey=True, figsize=(20, 4))\n",
    "fig.tight_layout(pad=0.1)\n",
    "\n",
    "rec, _ = sess.run([out, opt], feed_dict={input_batch: imgs})\n",
    "\n",
    "for images, row in zip([imgs, rec], axes):\n",
    "    for img, axis in zip(images, row):\n",
    "        axis.get_xaxis().set_visible(False)\n",
    "        axis.get_yaxis().set_visible(False)\n",
    "        axis.imshow(img.reshape((28, 28)), cmap='gray')"
   ]
  },
  {
   "cell_type": "markdown",
   "metadata": {},
   "source": [
    "### Sample latent space"
   ]
  },
  {
   "cell_type": "code",
   "execution_count": null,
   "metadata": {},
   "outputs": [],
   "source": [
    "latent = np.random.normal(0, 1, n_z).reshape((1, n_z))\n",
    "decoded = sess.run(out, feed_dict={z: latent})\n",
    "plt.imshow(decoded.reshape((28, 28)), cmap='gray')"
   ]
  },
  {
   "cell_type": "code",
   "execution_count": null,
   "metadata": {},
   "outputs": [],
   "source": [
    "sess.close()"
   ]
  }
 ],
 "metadata": {
  "kernelspec": {
   "display_name": "Python 3",
   "language": "python",
   "name": "python3"
  },
  "language_info": {
   "codemirror_mode": {
    "name": "ipython",
    "version": 3
   },
   "file_extension": ".py",
   "mimetype": "text/x-python",
   "name": "python",
   "nbconvert_exporter": "python",
   "pygments_lexer": "ipython3",
   "version": "3.9.1"
  }
 },
 "nbformat": 4,
 "nbformat_minor": 2
}
