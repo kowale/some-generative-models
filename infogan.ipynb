{
 "cells": [
  {
   "cell_type": "markdown",
   "metadata": {},
   "source": [
    "### InfoGAN\n",
    "\n",
    "* generator\n",
    "\n",
    "10 samples from U(0, 1) + c -> 128 -> relu -> 784 -> sigm -> 28x28\n",
    "\n",
    "* discriminator\n",
    "\n",
    "28x28 from data -> flatten to 784 -> 784 -> relu -> 128 -> sigm"
   ]
  },
  {
   "cell_type": "code",
   "execution_count": null,
   "metadata": {},
   "outputs": [],
   "source": [
    "import random\n",
    "\n",
    "import numpy as np\n",
    "import tensorflow as tf\n",
    "\n",
    "import matplotlib.pyplot as plt\n",
    "%matplotlib inline"
   ]
  },
  {
   "cell_type": "code",
   "execution_count": null,
   "metadata": {},
   "outputs": [],
   "source": [
    "(X, y), _ = tf.keras.datasets.fashion_mnist.load_data()\n",
    "X = X / 128.0\n",
    "\n",
    "fmnist = X[y == 6][:1000].reshape([-1, 28, 28, 1])"
   ]
  },
  {
   "cell_type": "code",
   "execution_count": null,
   "metadata": {},
   "outputs": [],
   "source": [
    "(lambda x: plt.imshow(\n",
    "    fmnist[x].reshape((28, 28)), cmap='gray'))(0)"
   ]
  },
  {
   "cell_type": "code",
   "execution_count": null,
   "metadata": {},
   "outputs": [],
   "source": [
    "def generator(z, c):\n",
    "    z = tf.concat(values=[z, c], axis=1)\n",
    "    with tf.variable_scope(\"generator\", reuse=tf.AUTO_REUSE):\n",
    "        z = tf.layers.dense(z, units=128,\n",
    "                            activation=tf.nn.relu)\n",
    "        prob = tf.layers.dense(z, units=784,\n",
    "                            activation=tf.nn.sigmoid)\n",
    "    return tf.reshape(prob, shape=(-1, 28, 28, 1))"
   ]
  },
  {
   "cell_type": "code",
   "execution_count": null,
   "metadata": {},
   "outputs": [],
   "source": [
    "def discriminator(x):\n",
    "    with tf.variable_scope(\"discriminator\", reuse=tf.AUTO_REUSE):\n",
    "        x = tf.contrib.layers.flatten(x)\n",
    "        logit = tf.layers.dense(x, units=784,\n",
    "                            activation=tf.nn.relu)\n",
    "        prob = tf.layers.dense(logit, units=128,\n",
    "                            activation=tf.nn.sigmoid)\n",
    "    return prob"
   ]
  },
  {
   "cell_type": "code",
   "execution_count": null,
   "metadata": {},
   "outputs": [],
   "source": [
    "def Q(q):\n",
    "    with tf.variable_scope(\"Q\", reuse=tf.AUTO_REUSE):\n",
    "        q = tf.contrib.layers.flatten(q)\n",
    "        q = tf.layers.dense(q, units=784,\n",
    "                            activation=tf.nn.relu)\n",
    "        q = tf.layers.dense(q, units=128,\n",
    "                            activation=tf.nn.relu)        \n",
    "        prob = tf.layers.dense(q, units=10,\n",
    "                            activation=tf.nn.softmax)\n",
    "    return prob"
   ]
  },
  {
   "cell_type": "code",
   "execution_count": null,
   "metadata": {},
   "outputs": [],
   "source": [
    "z = tf.placeholder(\n",
    "    tf.float32, shape=(None, 10), name='z')\n",
    "x = tf.placeholder(\n",
    "    tf.float32, shape=(None, 28, 28, 1), name='x')\n",
    "c = tf.placeholder(\n",
    "    tf.float32, shape=(None, 10), name='c')"
   ]
  },
  {
   "cell_type": "code",
   "execution_count": null,
   "metadata": {},
   "outputs": [],
   "source": [
    "sample = generator(z, c)\n",
    "qcx = Q(sample)\n",
    "dreal = discriminator(x)\n",
    "dfake = discriminator(sample)"
   ]
  },
  {
   "cell_type": "code",
   "execution_count": null,
   "metadata": {},
   "outputs": [],
   "source": [
    "dloss = -tf.reduce_mean(\n",
    "    tf.log(dreal) + tf.log(1. - dfake))\n",
    "gloss = -tf.reduce_mean(tf.log(dfake))\n",
    "qloss = tf.reduce_mean(\n",
    "    -tf.reduce_sum(tf.log(qcx + 1e-8) * c, 1))"
   ]
  },
  {
   "cell_type": "code",
   "execution_count": null,
   "metadata": {},
   "outputs": [],
   "source": [
    "dopt = tf.train.AdamOptimizer(0.001).minimize(dloss)\n",
    "gopt = tf.train.AdamOptimizer(0.001).minimize(gloss)\n",
    "qopt = tf.train.AdamOptimizer(0.001).minimize(qloss)"
   ]
  },
  {
   "cell_type": "code",
   "execution_count": null,
   "metadata": {},
   "outputs": [],
   "source": [
    "def sample_c(m):\n",
    "    return np.random.multinomial(1, 10*[0.1], size=m).astype(np.float32)"
   ]
  },
  {
   "cell_type": "code",
   "execution_count": null,
   "metadata": {},
   "outputs": [],
   "source": [
    "def sample_z(m, n):\n",
    "    return np.random.uniform(0., 1., size=(m, n))"
   ]
  },
  {
   "cell_type": "code",
   "execution_count": null,
   "metadata": {},
   "outputs": [],
   "source": [
    "sess = tf.Session()\n",
    "epochs = 10\n",
    "batch_size = 200\n",
    "sess.run(tf.global_variables_initializer())\n",
    "\n",
    "try:\n",
    "    for e in range(epochs):\n",
    "        print(f\"Epoch: {e+1}/{epochs}\")\n",
    "        for i in range(len(fmnist) // batch_size):\n",
    "            batch = fmnist[random.sample(range(len(fmnist)), batch_size)]\n",
    "            z_noise = sample_z(batch_size, 10)\n",
    "            c_noise = sample_c(batch_size)\n",
    "            _, dlossc = sess.run([dopt, dloss], feed_dict={x: batch, z: z_noise, c: c_noise})\n",
    "            _, glossc = sess.run([gopt, gloss], feed_dict={z: z_noise, c: c_noise})\n",
    "            sess.run([qopt], feed_dict={z: z_noise, c: c_noise})\n",
    "            if i % 20 == 0:\n",
    "                print(f\"iter: {i}, dloss: {str(round(dlossc, 2))}, gloss: {str(round(glossc, 2))}\")\n",
    "except KeyboardInterrupt:\n",
    "    print(\"Stopped\")"
   ]
  },
  {
   "cell_type": "markdown",
   "metadata": {},
   "source": [
    "### Sample latent space"
   ]
  },
  {
   "cell_type": "code",
   "execution_count": null,
   "metadata": {},
   "outputs": [],
   "source": [
    "latent = np.random.normal(0, 1, 10).reshape((1, 10))\n",
    "c_passed = np.array([1, 0, 1, 0, 1, 0, 1, 1, 0, 1]).reshape((1, 10))\n",
    "decoded = sess.run(sample, feed_dict={z: latent, c: c_passed})\n",
    "plt.imshow(decoded.reshape((28, 28)), cmap='gray')"
   ]
  },
  {
   "cell_type": "code",
   "execution_count": null,
   "metadata": {},
   "outputs": [],
   "source": [
    "sess.close()"
   ]
  }
 ],
 "metadata": {
  "kernelspec": {
   "display_name": "Python 3",
   "language": "python",
   "name": "python3"
  },
  "language_info": {
   "codemirror_mode": {
    "name": "ipython",
    "version": 3
   },
   "file_extension": ".py",
   "mimetype": "text/x-python",
   "name": "python",
   "nbconvert_exporter": "python",
   "pygments_lexer": "ipython3",
   "version": "3.6.6"
  }
 },
 "nbformat": 4,
 "nbformat_minor": 2
}
